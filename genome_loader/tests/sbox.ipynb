{
 "cells": [
  {
   "cell_type": "code",
   "execution_count": 21,
   "metadata": {},
   "outputs": [
    {
     "name": "stdout",
     "output_type": "stream",
     "text": [
      "The autoreload extension is already loaded. To reload it, use:\n",
      "  %reload_ext autoreload\n"
     ]
    }
   ],
   "source": [
    "%load_ext autoreload\n",
    "%autoreload 2"
   ]
  },
  {
   "cell_type": "code",
   "execution_count": 27,
   "metadata": {},
   "outputs": [],
   "source": [
    "import h5py\n",
    "import sgkit as sg\n",
    "from genome_loader.gloader import GenomeLoader\n",
    "import numpy as np\n",
    "from typing import Sequence\n",
    "from numpy.typing import NDArray\n",
    "from pysam import FastaFile\n",
    "from itertools import product\n",
    "from pathlib import Path\n",
    "import dask.array as da\n",
    "wdir = Path('/cellar/users/dlaub/.local/pypkg/genome-loader/genome_loader/tests')"
   ]
  },
  {
   "cell_type": "code",
   "execution_count": 3,
   "metadata": {},
   "outputs": [],
   "source": [
    "# from sgkit.io.vcf import vcf_to_zarr\n",
    "\n",
    "# vcf = wdir.joinpath('data', 'ccle_snp_wes.reduced.bcf')\n",
    "# vcf_to_zarr(vcf, wdir.joinpath('data', 'ccle_snp_wes.zarr'))"
   ]
  },
  {
   "cell_type": "code",
   "execution_count": 24,
   "metadata": {},
   "outputs": [],
   "source": [
    "gl = GenomeLoader(\n",
    "        wdir.joinpath(\"data\", \"grch38.20.21.ohe.ACGTN.h5\"),\n",
    "        wdir.joinpath(\"data\", \"ccle_snp_wes.reduced.zarr\"),\n",
    ")"
   ]
  },
  {
   "cell_type": "code",
   "execution_count": 25,
   "metadata": {},
   "outputs": [],
   "source": [
    "ds = gl._vcf"
   ]
  },
  {
   "cell_type": "code",
   "execution_count": 49,
   "metadata": {},
   "outputs": [
    {
     "data": {
      "text/plain": [
       "array([1, 0])"
      ]
     },
     "execution_count": 49,
     "metadata": {},
     "output_type": "execute_result"
    }
   ],
   "source": [
    "samples = ['OCI-AML5', 'NCI-H660']\n",
    "\n",
    "# want to get all elements of sample_ids that are in samples and in the same order as samples\n",
    "# sample_idx = [1 2 0]\n",
    "_, s_id_idx, s_query_idx = np.intersect1d(ds.sample_id, samples, assume_unique=True, return_indices=True)\n",
    "s_id_idx[s_query_idx]"
   ]
  }
 ],
 "metadata": {
  "kernelspec": {
   "display_name": "DrugCell Transfer",
   "language": "python",
   "name": "dc_transfer"
  },
  "language_info": {
   "codemirror_mode": {
    "name": "ipython",
    "version": 3
   },
   "file_extension": ".py",
   "mimetype": "text/x-python",
   "name": "python",
   "nbconvert_exporter": "python",
   "pygments_lexer": "ipython3",
   "version": "3.9.13"
  },
  "orig_nbformat": 4
 },
 "nbformat": 4,
 "nbformat_minor": 2
}
